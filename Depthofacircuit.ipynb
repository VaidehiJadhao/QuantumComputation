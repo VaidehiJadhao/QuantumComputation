{
 "cells": [
  {
   "cell_type": "code",
   "execution_count": 1,
   "id": "7956564a-d1a5-4837-b3c5-60dd3eb935d3",
   "metadata": {
    "tags": []
   },
   "outputs": [],
   "source": [
    "# Importing standard Qiskit libraries\n",
    "from qiskit import QuantumCircuit, transpile\n",
    "from qiskit.tools.jupyter import *\n",
    "from qiskit.visualization import *\n",
    "from ibm_quantum_widgets import *\n",
    "from qiskit_aer import AerSimulator\n",
    "\n",
    "# qiskit-ibmq-provider has been deprecated.\n",
    "# Please see the Migration Guides in https://ibm.biz/provider_migration_guide for more detail.\n",
    "from qiskit_ibm_runtime import QiskitRuntimeService, Sampler, Estimator, Session, Options\n",
    "\n",
    "# Loading your IBM Quantum account(s)\n",
    "service = QiskitRuntimeService(channel=\"ibm_quantum\")\n",
    "\n",
    "# Invoke a primitive inside a session. For more details see https://qiskit.org/documentation/partners/qiskit_ibm_runtime/tutorials.html\n",
    "# with Session(backend=service.backend(\"ibmq_qasm_simulator\")):\n",
    "#     result = Sampler().run(circuits).result()"
   ]
  },
  {
   "cell_type": "code",
   "execution_count": 2,
   "id": "1ad53591-2420-411e-a4ef-f17aea3f7f38",
   "metadata": {
    "tags": []
   },
   "outputs": [
    {
     "name": "stdout",
     "output_type": "stream",
     "text": [
      "Circuit Depth: 5\n"
     ]
    }
   ],
   "source": [
    "from qiskit import QuantumCircuit\n",
    "\n",
    "# Create a quantum circuit\n",
    "circuit = QuantumCircuit(4, 2)\n",
    "\n",
    "# Apply gates to the circuit\n",
    "circuit.h(0)\n",
    "circuit.cx(0, 1)\n",
    "circuit.cx(1, 2)\n",
    "circuit.cx(2, 3)\n",
    "circuit.measure([2, 3], [0, 1])\n",
    "\n",
    "# Calculate the depth of the circuit\n",
    "depth = circuit.depth()\n",
    "\n",
    "# Print the depth of the circuit\n",
    "print(\"Circuit Depth:\", depth)"
   ]
  },
  {
   "cell_type": "code",
   "execution_count": null,
   "id": "03501239-3056-45f0-a46d-5b930bef7b94",
   "metadata": {},
   "outputs": [],
   "source": []
  }
 ],
 "metadata": {
  "kernelspec": {
   "display_name": "Python 3 (ipykernel)",
   "language": "python",
   "name": "python3"
  },
  "language_info": {
   "codemirror_mode": {
    "name": "ipython",
    "version": 3
   },
   "file_extension": ".py",
   "mimetype": "text/x-python",
   "name": "python",
   "nbconvert_exporter": "python",
   "pygments_lexer": "ipython3",
   "version": "3.10.8"
  },
  "widgets": {
   "application/vnd.jupyter.widget-state+json": {
    "state": {
     "077331d256cc479493a30109c064b89b": {
      "model_module": "@jupyter-widgets/base",
      "model_module_version": "2.0.0",
      "model_name": "LayoutModel",
      "state": {}
     },
     "09909e6f371b4d91bfa26e1475279179": {
      "model_module": "@jupyter-widgets/controls",
      "model_module_version": "2.0.0",
      "model_name": "HTMLModel",
      "state": {
       "layout": "IPY_MODEL_60f2466ed4154e02910f953817992fe2",
       "style": "IPY_MODEL_29add63441ae445b98b7adf33e9663ad",
       "value": "<h5>Job ID</h5>"
      }
     },
     "0f3eb322677f4420a96a6cf902d0c6b7": {
      "model_module": "@jupyter-widgets/controls",
      "model_module_version": "2.0.0",
      "model_name": "HTMLStyleModel",
      "state": {
       "description_width": "",
       "font_size": null,
       "text_color": null
      }
     },
     "2212da6dba2848e5915d08c87e1e870d": {
      "model_module": "@jupyter-widgets/base",
      "model_module_version": "2.0.0",
      "model_name": "LayoutModel",
      "state": {
       "width": "70px"
      }
     },
     "25a71bdf31ad4c4781b8ada836a046cc": {
      "model_module": "@jupyter-widgets/base",
      "model_module_version": "2.0.0",
      "model_name": "LayoutModel",
      "state": {
       "margin": "0px 0px 0px 37px",
       "width": "600px"
      }
     },
     "2609f599d6f04f4a8b70fda7b59141cf": {
      "model_module": "@jupyter-widgets/controls",
      "model_module_version": "2.0.0",
      "model_name": "HTMLModel",
      "state": {
       "layout": "IPY_MODEL_97a48703bada4948a794905b81b5929a",
       "style": "IPY_MODEL_2a129545b3174629802e1b080cc684eb",
       "value": "<h5>Backend</h5>"
      }
     },
     "29add63441ae445b98b7adf33e9663ad": {
      "model_module": "@jupyter-widgets/controls",
      "model_module_version": "2.0.0",
      "model_name": "HTMLStyleModel",
      "state": {
       "description_width": "",
       "font_size": null,
       "text_color": null
      }
     },
     "2a129545b3174629802e1b080cc684eb": {
      "model_module": "@jupyter-widgets/controls",
      "model_module_version": "2.0.0",
      "model_name": "HTMLStyleModel",
      "state": {
       "description_width": "",
       "font_size": null,
       "text_color": null
      }
     },
     "4eba29396bd546c2abe28885e2788fc8": {
      "model_module": "@jupyter-widgets/base",
      "model_module_version": "2.0.0",
      "model_name": "LayoutModel",
      "state": {
       "width": "95px"
      }
     },
     "5287efd5f8c44daf95dbc1d0dc356d76": {
      "model_module": "@jupyter-widgets/controls",
      "model_module_version": "2.0.0",
      "model_name": "HTMLModel",
      "state": {
       "layout": "IPY_MODEL_2212da6dba2848e5915d08c87e1e870d",
       "style": "IPY_MODEL_0f3eb322677f4420a96a6cf902d0c6b7",
       "value": "<h5>Queue</h5>"
      }
     },
     "5738398a7fb44406a6ffee5357fb92c2": {
      "model_module": "@jupyter-widgets/controls",
      "model_module_version": "2.0.0",
      "model_name": "ButtonStyleModel",
      "state": {
       "font_family": null,
       "font_size": null,
       "font_style": null,
       "font_variant": null,
       "font_weight": null,
       "text_color": null,
       "text_decoration": null
      }
     },
     "5bd0d044009c43aaaf551181151fb873": {
      "model_module": "@jupyter-widgets/base",
      "model_module_version": "2.0.0",
      "model_name": "LayoutModel",
      "state": {
       "margin": "0px 0px 10px 0px"
      }
     },
     "60f2466ed4154e02910f953817992fe2": {
      "model_module": "@jupyter-widgets/base",
      "model_module_version": "2.0.0",
      "model_name": "LayoutModel",
      "state": {
       "width": "190px"
      }
     },
     "6da0d2f6bbfa4f32a1fe0d78aaeae9a3": {
      "model_module": "@jupyter-widgets/controls",
      "model_module_version": "2.0.0",
      "model_name": "HTMLModel",
      "state": {
       "layout": "IPY_MODEL_077331d256cc479493a30109c064b89b",
       "style": "IPY_MODEL_8c88efc4f4094e7c9f975626c62e2167",
       "value": "<h5>Message</h5>"
      }
     },
     "7584982d71eb409192e4df2d76411a52": {
      "model_module": "@jupyter-widgets/controls",
      "model_module_version": "2.0.0",
      "model_name": "HTMLModel",
      "state": {
       "layout": "IPY_MODEL_5bd0d044009c43aaaf551181151fb873",
       "style": "IPY_MODEL_b90619df357346458a38957871de1ae0",
       "value": "<p style='font-family: IBM Plex Sans, Arial, Helvetica, sans-serif; font-size: 20px; font-weight: medium;'>Circuit Properties</p>"
      }
     },
     "8c88efc4f4094e7c9f975626c62e2167": {
      "model_module": "@jupyter-widgets/controls",
      "model_module_version": "2.0.0",
      "model_name": "HTMLStyleModel",
      "state": {
       "description_width": "",
       "font_size": null,
       "text_color": null
      }
     },
     "910a84c3f0904cdf805eed67e272fd0d": {
      "model_module": "@jupyter-widgets/controls",
      "model_module_version": "2.0.0",
      "model_name": "HBoxModel",
      "state": {
       "children": [
        "IPY_MODEL_09909e6f371b4d91bfa26e1475279179",
        "IPY_MODEL_2609f599d6f04f4a8b70fda7b59141cf",
        "IPY_MODEL_d687d6f752f443b5bc04b6e3a88c0692",
        "IPY_MODEL_5287efd5f8c44daf95dbc1d0dc356d76",
        "IPY_MODEL_6da0d2f6bbfa4f32a1fe0d78aaeae9a3"
       ],
       "layout": "IPY_MODEL_25a71bdf31ad4c4781b8ada836a046cc"
      }
     },
     "96460868a90f44f4b7914886cc589be4": {
      "model_module": "@jupyter-widgets/base",
      "model_module_version": "2.0.0",
      "model_name": "LayoutModel",
      "state": {
       "grid_template_areas": "\n                                       \". . . . right \"\n                                        ",
       "grid_template_columns": "20% 20% 20% 20% 20%",
       "width": "100%"
      }
     },
     "97a48703bada4948a794905b81b5929a": {
      "model_module": "@jupyter-widgets/base",
      "model_module_version": "2.0.0",
      "model_name": "LayoutModel",
      "state": {
       "width": "145px"
      }
     },
     "b90619df357346458a38957871de1ae0": {
      "model_module": "@jupyter-widgets/controls",
      "model_module_version": "2.0.0",
      "model_name": "HTMLStyleModel",
      "state": {
       "description_width": "",
       "font_size": null,
       "text_color": null
      }
     },
     "bf05d9cc2cd24d0695cfb5d7907ea2e4": {
      "model_module": "@jupyter-widgets/controls",
      "model_module_version": "2.0.0",
      "model_name": "GridBoxModel",
      "state": {
       "children": [
        "IPY_MODEL_d56286afb30c4e6ea10b9f622593e93c"
       ],
       "layout": "IPY_MODEL_96460868a90f44f4b7914886cc589be4"
      }
     },
     "c6074704bb474b6699af9f44ee0aaf8c": {
      "model_module": "@jupyter-widgets/base",
      "model_module_version": "2.0.0",
      "model_name": "LayoutModel",
      "state": {
       "grid_area": "right",
       "padding": "0px 0px 0px 0px",
       "width": "70px"
      }
     },
     "ccf689496df04707ae33455b16601606": {
      "model_module": "@jupyter-widgets/controls",
      "model_module_version": "2.0.0",
      "model_name": "HTMLStyleModel",
      "state": {
       "description_width": "",
       "font_size": null,
       "text_color": null
      }
     },
     "d56286afb30c4e6ea10b9f622593e93c": {
      "model_module": "@jupyter-widgets/controls",
      "model_module_version": "2.0.0",
      "model_name": "ButtonModel",
      "state": {
       "button_style": "primary",
       "description": "Clear",
       "layout": "IPY_MODEL_c6074704bb474b6699af9f44ee0aaf8c",
       "style": "IPY_MODEL_5738398a7fb44406a6ffee5357fb92c2",
       "tooltip": null
      }
     },
     "d687d6f752f443b5bc04b6e3a88c0692": {
      "model_module": "@jupyter-widgets/controls",
      "model_module_version": "2.0.0",
      "model_name": "HTMLModel",
      "state": {
       "layout": "IPY_MODEL_4eba29396bd546c2abe28885e2788fc8",
       "style": "IPY_MODEL_ccf689496df04707ae33455b16601606",
       "value": "<h5>Status</h5>"
      }
     }
    },
    "version_major": 2,
    "version_minor": 0
   }
  }
 },
 "nbformat": 4,
 "nbformat_minor": 5
}

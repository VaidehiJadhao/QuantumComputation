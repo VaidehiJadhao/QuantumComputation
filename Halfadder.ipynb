{
 "cells": [
  {
   "cell_type": "code",
   "execution_count": 1,
   "id": "1aed694f-680f-4339-a9a4-9092c3812b8e",
   "metadata": {
    "tags": []
   },
   "outputs": [],
   "source": [
    "# Importing standard Qiskit libraries\n",
    "from qiskit import QuantumCircuit, transpile\n",
    "from qiskit.tools.jupyter import *\n",
    "from qiskit.visualization import *\n",
    "from ibm_quantum_widgets import *\n",
    "from qiskit_aer import AerSimulator\n",
    "\n",
    "# qiskit-ibmq-provider has been deprecated.\n",
    "# Please see the Migration Guides in https://ibm.biz/provider_migration_guide for more detail.\n",
    "from qiskit_ibm_runtime import QiskitRuntimeService, Sampler, Estimator, Session, Options\n",
    "\n",
    "# Loading your IBM Quantum account(s)\n",
    "service = QiskitRuntimeService(channel=\"ibm_quantum\")\n",
    "\n",
    "# Invoke a primitive inside a session. For more details see https://qiskit.org/documentation/partners/qiskit_ibm_runtime/tutorials.html\n",
    "# with Session(backend=service.backend(\"ibmq_qasm_simulator\")):\n",
    "#     result = Sampler().run(circuits).result()"
   ]
  },
  {
   "cell_type": "code",
   "execution_count": 2,
   "id": "ee68070a-4c48-4999-a885-114d6e845a5e",
   "metadata": {
    "tags": []
   },
   "outputs": [
    {
     "name": "stdout",
     "output_type": "stream",
     "text": [
      "Half Adder Circuit:\n",
      "                          \n",
      "q_0: ──■─────────■────────\n",
      "       │         │        \n",
      "q_1: ──┼────■────■────────\n",
      "     ┌─┴─┐┌─┴─┐  │  ┌─┐   \n",
      "q_2: ┤ X ├┤ X ├──┼──┤M├───\n",
      "     └───┘└───┘┌─┴─┐└╥┘┌─┐\n",
      "q_3: ──────────┤ X ├─╫─┤M├\n",
      "               └───┘ ║ └╥┘\n",
      "c: 2/════════════════╩══╩═\n",
      "                     0  1 \n",
      "\n",
      "Half Adder Result: 00\n"
     ]
    }
   ],
   "source": [
    "from qiskit import QuantumCircuit, Aer, execute\n",
    "\n",
    "# Create a quantum circuit with 4 qubits and 2 classical bits\n",
    "circuit = QuantumCircuit(4, 2)\n",
    "\n",
    "# Apply gates for half adder\n",
    "circuit.cx(0, 2)\n",
    "circuit.cx(1, 2)\n",
    "circuit.ccx(0, 1, 3)\n",
    "circuit.measure([2, 3], [0, 1])\n",
    "\n",
    "# Draw the circuit\n",
    "print(\"Half Adder Circuit:\")\n",
    "print(circuit)\n",
    "\n",
    "# Simulate the circuit\n",
    "backend = Aer.get_backend('qasm_simulator')\n",
    "job = execute(circuit, backend, shots=1)\n",
    "result = job.result().get_counts()\n",
    "\n",
    "# Print the measurement result\n",
    "print(\"\\nHalf Adder Result:\", list(result.keys())[0])"
   ]
  },
  {
   "cell_type": "code",
   "execution_count": null,
   "id": "365b3739-488a-4454-a5c8-feb1b5ec2054",
   "metadata": {},
   "outputs": [],
   "source": []
  }
 ],
 "metadata": {
  "kernelspec": {
   "display_name": "Python 3 (ipykernel)",
   "language": "python",
   "name": "python3"
  },
  "language_info": {
   "codemirror_mode": {
    "name": "ipython",
    "version": 3
   },
   "file_extension": ".py",
   "mimetype": "text/x-python",
   "name": "python",
   "nbconvert_exporter": "python",
   "pygments_lexer": "ipython3",
   "version": "3.10.8"
  },
  "widgets": {
   "application/vnd.jupyter.widget-state+json": {
    "state": {
     "0227e4dc64344ae4923abee56745c977": {
      "model_module": "@jupyter-widgets/base",
      "model_module_version": "2.0.0",
      "model_name": "LayoutModel",
      "state": {}
     },
     "162ebb6b684845e3ae106adc38d9a916": {
      "model_module": "@jupyter-widgets/controls",
      "model_module_version": "2.0.0",
      "model_name": "HTMLStyleModel",
      "state": {
       "description_width": "",
       "font_size": null,
       "text_color": null
      }
     },
     "1c2b2ea310ae45c9969c23f69a02069a": {
      "model_module": "@jupyter-widgets/controls",
      "model_module_version": "2.0.0",
      "model_name": "HTMLStyleModel",
      "state": {
       "description_width": "",
       "font_size": null,
       "text_color": null
      }
     },
     "2e35a3e754ac4b6d9f2c3148105c4971": {
      "model_module": "@jupyter-widgets/controls",
      "model_module_version": "2.0.0",
      "model_name": "HTMLStyleModel",
      "state": {
       "description_width": "",
       "font_size": null,
       "text_color": null
      }
     },
     "34aa027eac7c413794e43e29197a01c2": {
      "model_module": "@jupyter-widgets/base",
      "model_module_version": "2.0.0",
      "model_name": "LayoutModel",
      "state": {
       "width": "145px"
      }
     },
     "3d4a1769daeb40fc977c344ca0154e71": {
      "model_module": "@jupyter-widgets/base",
      "model_module_version": "2.0.0",
      "model_name": "LayoutModel",
      "state": {
       "grid_template_areas": "\n                                       \". . . . right \"\n                                        ",
       "grid_template_columns": "20% 20% 20% 20% 20%",
       "width": "100%"
      }
     },
     "43625c2c16224736afb7e57efff3dc07": {
      "model_module": "@jupyter-widgets/controls",
      "model_module_version": "2.0.0",
      "model_name": "HTMLModel",
      "state": {
       "layout": "IPY_MODEL_f0a680e430874bbd981e316fb2ef4419",
       "style": "IPY_MODEL_b12c0bee1bd2426b8ca29b679465c4b9",
       "value": "<h5>Job ID</h5>"
      }
     },
     "5d160b110dc4469a99be03631b79207c": {
      "model_module": "@jupyter-widgets/base",
      "model_module_version": "2.0.0",
      "model_name": "LayoutModel",
      "state": {
       "margin": "0px 0px 0px 37px",
       "width": "600px"
      }
     },
     "65d5ecc4ef3348dabe6d94e845d2895f": {
      "model_module": "@jupyter-widgets/controls",
      "model_module_version": "2.0.0",
      "model_name": "HTMLModel",
      "state": {
       "layout": "IPY_MODEL_8620b92eaa5241bfbe53600d732b17a5",
       "style": "IPY_MODEL_2e35a3e754ac4b6d9f2c3148105c4971",
       "value": "<h5>Queue</h5>"
      }
     },
     "6df22835befa4f7ab245ab5f57882f4c": {
      "model_module": "@jupyter-widgets/controls",
      "model_module_version": "2.0.0",
      "model_name": "HTMLStyleModel",
      "state": {
       "description_width": "",
       "font_size": null,
       "text_color": null
      }
     },
     "6f7652c360e1455e9e9baaa21aab1821": {
      "model_module": "@jupyter-widgets/controls",
      "model_module_version": "2.0.0",
      "model_name": "HBoxModel",
      "state": {
       "children": [
        "IPY_MODEL_43625c2c16224736afb7e57efff3dc07",
        "IPY_MODEL_915ba40943d44f48b814c36f3a78ee90",
        "IPY_MODEL_f1cc96fc95714ab2aa8001d652b4ff3f",
        "IPY_MODEL_65d5ecc4ef3348dabe6d94e845d2895f",
        "IPY_MODEL_fe826c7fd7d6495a92abe63ec371be2d"
       ],
       "layout": "IPY_MODEL_5d160b110dc4469a99be03631b79207c"
      }
     },
     "7d2abbfdcb264cb092c44adceb9f9030": {
      "model_module": "@jupyter-widgets/base",
      "model_module_version": "2.0.0",
      "model_name": "LayoutModel",
      "state": {
       "margin": "0px 0px 10px 0px"
      }
     },
     "8620b92eaa5241bfbe53600d732b17a5": {
      "model_module": "@jupyter-widgets/base",
      "model_module_version": "2.0.0",
      "model_name": "LayoutModel",
      "state": {
       "width": "70px"
      }
     },
     "8640f78a24eb48a1b5993259dc79d97a": {
      "model_module": "@jupyter-widgets/controls",
      "model_module_version": "2.0.0",
      "model_name": "GridBoxModel",
      "state": {
       "children": [
        "IPY_MODEL_a9cc38adf31c467a97600a02956269f3"
       ],
       "layout": "IPY_MODEL_3d4a1769daeb40fc977c344ca0154e71"
      }
     },
     "915ba40943d44f48b814c36f3a78ee90": {
      "model_module": "@jupyter-widgets/controls",
      "model_module_version": "2.0.0",
      "model_name": "HTMLModel",
      "state": {
       "layout": "IPY_MODEL_34aa027eac7c413794e43e29197a01c2",
       "style": "IPY_MODEL_1c2b2ea310ae45c9969c23f69a02069a",
       "value": "<h5>Backend</h5>"
      }
     },
     "a30a6cae340f465196ab66eb4ada94b5": {
      "model_module": "@jupyter-widgets/base",
      "model_module_version": "2.0.0",
      "model_name": "LayoutModel",
      "state": {
       "width": "95px"
      }
     },
     "a9cc38adf31c467a97600a02956269f3": {
      "model_module": "@jupyter-widgets/controls",
      "model_module_version": "2.0.0",
      "model_name": "ButtonModel",
      "state": {
       "button_style": "primary",
       "description": "Clear",
       "layout": "IPY_MODEL_ea3dbccada94444fb53bc5fcc6510059",
       "style": "IPY_MODEL_abae132710d348158863ff8941b713bc",
       "tooltip": null
      }
     },
     "abae132710d348158863ff8941b713bc": {
      "model_module": "@jupyter-widgets/controls",
      "model_module_version": "2.0.0",
      "model_name": "ButtonStyleModel",
      "state": {
       "font_family": null,
       "font_size": null,
       "font_style": null,
       "font_variant": null,
       "font_weight": null,
       "text_color": null,
       "text_decoration": null
      }
     },
     "b12c0bee1bd2426b8ca29b679465c4b9": {
      "model_module": "@jupyter-widgets/controls",
      "model_module_version": "2.0.0",
      "model_name": "HTMLStyleModel",
      "state": {
       "description_width": "",
       "font_size": null,
       "text_color": null
      }
     },
     "c8970d010d414bc6b303ac2d0fa7a5c4": {
      "model_module": "@jupyter-widgets/controls",
      "model_module_version": "2.0.0",
      "model_name": "HTMLModel",
      "state": {
       "layout": "IPY_MODEL_7d2abbfdcb264cb092c44adceb9f9030",
       "style": "IPY_MODEL_f97ea362fb184ad480c50701845c23d2",
       "value": "<p style='font-family: IBM Plex Sans, Arial, Helvetica, sans-serif; font-size: 20px; font-weight: medium;'>Circuit Properties</p>"
      }
     },
     "ea3dbccada94444fb53bc5fcc6510059": {
      "model_module": "@jupyter-widgets/base",
      "model_module_version": "2.0.0",
      "model_name": "LayoutModel",
      "state": {
       "grid_area": "right",
       "padding": "0px 0px 0px 0px",
       "width": "70px"
      }
     },
     "f0a680e430874bbd981e316fb2ef4419": {
      "model_module": "@jupyter-widgets/base",
      "model_module_version": "2.0.0",
      "model_name": "LayoutModel",
      "state": {
       "width": "190px"
      }
     },
     "f1cc96fc95714ab2aa8001d652b4ff3f": {
      "model_module": "@jupyter-widgets/controls",
      "model_module_version": "2.0.0",
      "model_name": "HTMLModel",
      "state": {
       "layout": "IPY_MODEL_a30a6cae340f465196ab66eb4ada94b5",
       "style": "IPY_MODEL_162ebb6b684845e3ae106adc38d9a916",
       "value": "<h5>Status</h5>"
      }
     },
     "f97ea362fb184ad480c50701845c23d2": {
      "model_module": "@jupyter-widgets/controls",
      "model_module_version": "2.0.0",
      "model_name": "HTMLStyleModel",
      "state": {
       "description_width": "",
       "font_size": null,
       "text_color": null
      }
     },
     "fe826c7fd7d6495a92abe63ec371be2d": {
      "model_module": "@jupyter-widgets/controls",
      "model_module_version": "2.0.0",
      "model_name": "HTMLModel",
      "state": {
       "layout": "IPY_MODEL_0227e4dc64344ae4923abee56745c977",
       "style": "IPY_MODEL_6df22835befa4f7ab245ab5f57882f4c",
       "value": "<h5>Message</h5>"
      }
     }
    },
    "version_major": 2,
    "version_minor": 0
   }
  }
 },
 "nbformat": 4,
 "nbformat_minor": 5
}

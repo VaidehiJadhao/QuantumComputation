{
 "cells": [
  {
   "cell_type": "code",
   "execution_count": 3,
   "id": "f8fd2b41-a649-4c3d-845c-9ebf068a0a2c",
   "metadata": {
    "tags": []
   },
   "outputs": [],
   "source": [
    "# Importing standard Qiskit libraries\n",
    "from qiskit import QuantumCircuit, transpile, execute\n",
    "from qiskit.tools.jupyter import *\n",
    "from qiskit.visualization import *\n",
    "from ibm_quantum_widgets import *\n",
    "from qiskit_aer import AerSimulator\n",
    "\n",
    "# qiskit-ibmq-provider has been deprecated.\n",
    "# Please see the Migration Guides in https://ibm.biz/provider_migration_guide for more detail.\n",
    "from qiskit_ibm_runtime import QiskitRuntimeService, Sampler, Estimator, Session, Options\n",
    "\n",
    "# Loading your IBM Quantum account(s)\n",
    "service = QiskitRuntimeService(channel=\"ibm_quantum\")\n",
    "\n",
    "# Invoke a primitive inside a session. For more details see https://qiskit.org/documentation/partners/qiskit_ibm_runtime/tutorials.html\n",
    "# with Session(backend=service.backend(\"ibmq_qasm_simulator\")):\n",
    "#     result = Sampler().run(circuits).result()"
   ]
  },
  {
   "cell_type": "code",
   "execution_count": 4,
   "id": "6fbdd414-fc21-454a-b7d5-d46cb0825f27",
   "metadata": {
    "tags": []
   },
   "outputs": [
    {
     "name": "stdout",
     "output_type": "stream",
     "text": [
      "Quantum Circuit:\n",
      "\n",
      "State Vector:\n",
      "Statevector([ 0.+0.j,  1.+0.j,  0.+0.j, -0.+0.j],\n",
      "            dims=(2, 2))\n",
      "\n",
      "Bloch Vectors:\n"
     ]
    }
   ],
   "source": [
    "from qiskit import QuantumCircuit, assemble, Aer\n",
    "from qiskit.visualization import plot_histogram, plot_bloch_vector\n",
    "from math import sqrt, pi\n",
    "\n",
    "# Create a quantum circuit with two qubits\n",
    "circuit = QuantumCircuit(2)\n",
    "\n",
    "# Apply X gate to the control qubit (qubit 0)\n",
    "circuit.x(0)\n",
    "\n",
    "# Apply controlled-Z gate between qubit 0 (control) and qubit 1 (target)\n",
    "circuit.cz(0, 1)\n",
    "\n",
    "# Measure the qubits\n",
    "circuit.measure_all()\n",
    "\n",
    "# Draw the circuit\n",
    "print(\"Quantum Circuit:\")\n",
    "circuit.draw()\n",
    "\n",
    "# Simulate the circuit\n",
    "backend = Aer.get_backend('statevector_simulator')\n",
    "job = execute(circuit, backend)\n",
    "result = job.result()\n",
    "state_vector = result.get_statevector()\n",
    "\n",
    "# Print the state vector\n",
    "print(\"\\nState Vector:\")\n",
    "print(state_vector)\n",
    "\n",
    "# Plot the Bloch vector for each qubit\n",
    "print(\"\\nBloch Vectors:\")\n",
    "plot_bloch_multivector(state_vector).show()"
   ]
  },
  {
   "cell_type": "code",
   "execution_count": 5,
   "id": "d084520c-789c-4c7b-80ba-7d10efa803f2",
   "metadata": {
    "tags": []
   },
   "outputs": [
    {
     "name": "stdout",
     "output_type": "stream",
     "text": [
      "Result: 01\n"
     ]
    }
   ],
   "source": [
    "# Simulate the circuit\n",
    "backend = Aer.get_backend('qasm_simulator')\n",
    "job = execute(circuit, backend, shots=1)\n",
    "result = job.result()\n",
    "counts = result.get_counts()\n",
    "\n",
    "# Print the result\n",
    "print(\"Result:\", list(counts.keys())[0])"
   ]
  },
  {
   "cell_type": "code",
   "execution_count": null,
   "id": "8fcdc3ea-2683-4cd5-b3cb-1a15b1eb9ae6",
   "metadata": {},
   "outputs": [],
   "source": []
  }
 ],
 "metadata": {
  "kernelspec": {
   "display_name": "Python 3 (ipykernel)",
   "language": "python",
   "name": "python3"
  },
  "language_info": {
   "codemirror_mode": {
    "name": "ipython",
    "version": 3
   },
   "file_extension": ".py",
   "mimetype": "text/x-python",
   "name": "python",
   "nbconvert_exporter": "python",
   "pygments_lexer": "ipython3",
   "version": "3.10.8"
  },
  "widgets": {
   "application/vnd.jupyter.widget-state+json": {
    "state": {
     "27a030b4412647a4b6f9584fae3d41ba": {
      "model_module": "@jupyter-widgets/controls",
      "model_module_version": "2.0.0",
      "model_name": "HTMLStyleModel",
      "state": {
       "description_width": "",
       "font_size": null,
       "text_color": null
      }
     },
     "3418b3365d07494dabb8214894603bac": {
      "model_module": "@jupyter-widgets/controls",
      "model_module_version": "2.0.0",
      "model_name": "HBoxModel",
      "state": {
       "children": [
        "IPY_MODEL_387d356f6a0d42038c7370b4eff8cffa",
        "IPY_MODEL_51caa7cad3554f7fb24e8f618f405a3b",
        "IPY_MODEL_e0c94373990d4599ae567b155f473d81",
        "IPY_MODEL_4b2d58a6b65149ce9a2d1363adb936a3",
        "IPY_MODEL_7df10914d78a4e8ebfa6a488d67db3c3"
       ],
       "layout": "IPY_MODEL_48ee28417af445d2a38dedcb5b3bbc05"
      }
     },
     "387d356f6a0d42038c7370b4eff8cffa": {
      "model_module": "@jupyter-widgets/controls",
      "model_module_version": "2.0.0",
      "model_name": "HTMLModel",
      "state": {
       "layout": "IPY_MODEL_b90caf0414ab4214b81088e7f1390b93",
       "style": "IPY_MODEL_63a0022f2db7463abc9965cf5ec44036",
       "value": "<h5>Job ID</h5>"
      }
     },
     "48ee28417af445d2a38dedcb5b3bbc05": {
      "model_module": "@jupyter-widgets/base",
      "model_module_version": "2.0.0",
      "model_name": "LayoutModel",
      "state": {
       "margin": "0px 0px 0px 37px",
       "width": "600px"
      }
     },
     "4b2d58a6b65149ce9a2d1363adb936a3": {
      "model_module": "@jupyter-widgets/controls",
      "model_module_version": "2.0.0",
      "model_name": "HTMLModel",
      "state": {
       "layout": "IPY_MODEL_c6ad8599b9cd44f38dacdac2be1243e0",
       "style": "IPY_MODEL_4e048c340eaa49b1ab497f5ae24fe823",
       "value": "<h5>Queue</h5>"
      }
     },
     "4ce960800fe441669ad15500d273be0a": {
      "model_module": "@jupyter-widgets/base",
      "model_module_version": "2.0.0",
      "model_name": "LayoutModel",
      "state": {}
     },
     "4e048c340eaa49b1ab497f5ae24fe823": {
      "model_module": "@jupyter-widgets/controls",
      "model_module_version": "2.0.0",
      "model_name": "HTMLStyleModel",
      "state": {
       "description_width": "",
       "font_size": null,
       "text_color": null
      }
     },
     "51caa7cad3554f7fb24e8f618f405a3b": {
      "model_module": "@jupyter-widgets/controls",
      "model_module_version": "2.0.0",
      "model_name": "HTMLModel",
      "state": {
       "layout": "IPY_MODEL_79f7a99c19fd456fb127cd7d9767b7b2",
       "style": "IPY_MODEL_27a030b4412647a4b6f9584fae3d41ba",
       "value": "<h5>Backend</h5>"
      }
     },
     "63a0022f2db7463abc9965cf5ec44036": {
      "model_module": "@jupyter-widgets/controls",
      "model_module_version": "2.0.0",
      "model_name": "HTMLStyleModel",
      "state": {
       "description_width": "",
       "font_size": null,
       "text_color": null
      }
     },
     "764c3718939642fea7145b5855519e89": {
      "model_module": "@jupyter-widgets/controls",
      "model_module_version": "2.0.0",
      "model_name": "HTMLStyleModel",
      "state": {
       "description_width": "",
       "font_size": null,
       "text_color": null
      }
     },
     "79f7a99c19fd456fb127cd7d9767b7b2": {
      "model_module": "@jupyter-widgets/base",
      "model_module_version": "2.0.0",
      "model_name": "LayoutModel",
      "state": {
       "width": "145px"
      }
     },
     "7df10914d78a4e8ebfa6a488d67db3c3": {
      "model_module": "@jupyter-widgets/controls",
      "model_module_version": "2.0.0",
      "model_name": "HTMLModel",
      "state": {
       "layout": "IPY_MODEL_4ce960800fe441669ad15500d273be0a",
       "style": "IPY_MODEL_764c3718939642fea7145b5855519e89",
       "value": "<h5>Message</h5>"
      }
     },
     "810fa5ba22494a15ac9fe4698948dd16": {
      "model_module": "@jupyter-widgets/base",
      "model_module_version": "2.0.0",
      "model_name": "LayoutModel",
      "state": {
       "margin": "0px 0px 10px 0px"
      }
     },
     "8eb01411bfdc47b49d92edfb4e93137a": {
      "model_module": "@jupyter-widgets/base",
      "model_module_version": "2.0.0",
      "model_name": "LayoutModel",
      "state": {
       "grid_area": "right",
       "padding": "0px 0px 0px 0px",
       "width": "70px"
      }
     },
     "a5bbc301fd7f4ecc809a4b99dac86d5d": {
      "model_module": "@jupyter-widgets/controls",
      "model_module_version": "2.0.0",
      "model_name": "ButtonStyleModel",
      "state": {
       "font_family": null,
       "font_size": null,
       "font_style": null,
       "font_variant": null,
       "font_weight": null,
       "text_color": null,
       "text_decoration": null
      }
     },
     "a5d83a1292b142bdb21217cb82be34d1": {
      "model_module": "@jupyter-widgets/controls",
      "model_module_version": "2.0.0",
      "model_name": "HTMLStyleModel",
      "state": {
       "description_width": "",
       "font_size": null,
       "text_color": null
      }
     },
     "b90caf0414ab4214b81088e7f1390b93": {
      "model_module": "@jupyter-widgets/base",
      "model_module_version": "2.0.0",
      "model_name": "LayoutModel",
      "state": {
       "width": "190px"
      }
     },
     "beaad3e466f84fb4909d1f4a2b8fc830": {
      "model_module": "@jupyter-widgets/base",
      "model_module_version": "2.0.0",
      "model_name": "LayoutModel",
      "state": {
       "grid_template_areas": "\n                                       \". . . . right \"\n                                        ",
       "grid_template_columns": "20% 20% 20% 20% 20%",
       "width": "100%"
      }
     },
     "bf02abe1b32e45a9b5be2677eaf1cf48": {
      "model_module": "@jupyter-widgets/controls",
      "model_module_version": "2.0.0",
      "model_name": "ButtonModel",
      "state": {
       "button_style": "primary",
       "description": "Clear",
       "layout": "IPY_MODEL_8eb01411bfdc47b49d92edfb4e93137a",
       "style": "IPY_MODEL_a5bbc301fd7f4ecc809a4b99dac86d5d",
       "tooltip": null
      }
     },
     "c6ad8599b9cd44f38dacdac2be1243e0": {
      "model_module": "@jupyter-widgets/base",
      "model_module_version": "2.0.0",
      "model_name": "LayoutModel",
      "state": {
       "width": "70px"
      }
     },
     "e0c94373990d4599ae567b155f473d81": {
      "model_module": "@jupyter-widgets/controls",
      "model_module_version": "2.0.0",
      "model_name": "HTMLModel",
      "state": {
       "layout": "IPY_MODEL_f75d2629ac334ae79f8614a32dab527b",
       "style": "IPY_MODEL_e7238cb311ab4ab5a0bdd549d9b036a3",
       "value": "<h5>Status</h5>"
      }
     },
     "e7238cb311ab4ab5a0bdd549d9b036a3": {
      "model_module": "@jupyter-widgets/controls",
      "model_module_version": "2.0.0",
      "model_name": "HTMLStyleModel",
      "state": {
       "description_width": "",
       "font_size": null,
       "text_color": null
      }
     },
     "ee9d66652e3047f9a9b54f431366d87c": {
      "model_module": "@jupyter-widgets/controls",
      "model_module_version": "2.0.0",
      "model_name": "HTMLModel",
      "state": {
       "layout": "IPY_MODEL_810fa5ba22494a15ac9fe4698948dd16",
       "style": "IPY_MODEL_a5d83a1292b142bdb21217cb82be34d1",
       "value": "<p style='font-family: IBM Plex Sans, Arial, Helvetica, sans-serif; font-size: 20px; font-weight: medium;'>Circuit Properties</p>"
      }
     },
     "f3b50310fcff49adb2ddee59fd22dab3": {
      "model_module": "@jupyter-widgets/controls",
      "model_module_version": "2.0.0",
      "model_name": "GridBoxModel",
      "state": {
       "children": [
        "IPY_MODEL_bf02abe1b32e45a9b5be2677eaf1cf48"
       ],
       "layout": "IPY_MODEL_beaad3e466f84fb4909d1f4a2b8fc830"
      }
     },
     "f75d2629ac334ae79f8614a32dab527b": {
      "model_module": "@jupyter-widgets/base",
      "model_module_version": "2.0.0",
      "model_name": "LayoutModel",
      "state": {
       "width": "95px"
      }
     }
    },
    "version_major": 2,
    "version_minor": 0
   }
  }
 },
 "nbformat": 4,
 "nbformat_minor": 5
}

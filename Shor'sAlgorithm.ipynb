{
 "cells": [
  {
   "cell_type": "code",
   "execution_count": 1,
   "id": "f19a09db-0c12-4fb7-8eb5-fc90d845a189",
   "metadata": {
    "tags": []
   },
   "outputs": [],
   "source": [
    "from qiskit import *\n",
    "import numpy as np\n",
    "from qiskit.visualization import plot_histogram\n",
    "import qiskit.tools.jupyter \n",
    "import matplotlib.pyplot as plt"
   ]
  },
  {
   "cell_type": "code",
   "execution_count": 2,
   "id": "b89f0264-b85f-4fb1-93be-d277fcb9a7ea",
   "metadata": {
    "tags": []
   },
   "outputs": [],
   "source": [
    "sim = Aer.get_backend('qasm_simulator')\n",
    "shots = 20000"
   ]
  },
  {
   "cell_type": "code",
   "execution_count": 3,
   "id": "030995f2-ca00-4cef-9dd5-189e38a7e17c",
   "metadata": {
    "tags": []
   },
   "outputs": [],
   "source": [
    "## Create 7mod15 gate\n",
    "N = 15\n",
    "m = int(np.ceil(np.log2(N)))\n",
    "\n",
    "U_qc = QuantumCircuit(m)\n",
    "U_qc.x(range(m))\n",
    "U_qc.swap(1, 2)\n",
    "U_qc.swap(2, 3)\n",
    "U_qc.swap(0, 3)\n",
    "\n",
    "U = U_qc.to_gate()\n",
    "U.name ='{}Mod{}'.format(7, N)"
   ]
  },
  {
   "cell_type": "code",
   "execution_count": null,
   "id": "3f2a7459-a2d3-498d-9864-7e17b0cfce4a",
   "metadata": {},
   "outputs": [],
   "source": []
  }
 ],
 "metadata": {
  "kernelspec": {
   "display_name": "Python 3 (ipykernel)",
   "language": "python",
   "name": "python3"
  },
  "language_info": {
   "codemirror_mode": {
    "name": "ipython",
    "version": 3
   },
   "file_extension": ".py",
   "mimetype": "text/x-python",
   "name": "python",
   "nbconvert_exporter": "python",
   "pygments_lexer": "ipython3",
   "version": "3.10.8"
  },
  "widgets": {
   "application/vnd.jupyter.widget-state+json": {
    "state": {
     "0cc7019d6f224bf087a01440649a874d": {
      "model_module": "@jupyter-widgets/controls",
      "model_module_version": "2.0.0",
      "model_name": "HTMLModel",
      "state": {
       "layout": "IPY_MODEL_1fccf749c1344131b89252360154e923",
       "style": "IPY_MODEL_e570f565b6264c8d85b55c8fd6ae20bb",
       "value": "<h5>Queue</h5>"
      }
     },
     "138d032fc868464ea9d985d01ca66266": {
      "model_module": "@jupyter-widgets/controls",
      "model_module_version": "2.0.0",
      "model_name": "HTMLModel",
      "state": {
       "layout": "IPY_MODEL_b8a674edf36e41ff85a4d6e806d9ef82",
       "style": "IPY_MODEL_8817a22ac8c348738b0f1f4b5e425202",
       "value": "<p style='font-family: IBM Plex Sans, Arial, Helvetica, sans-serif; font-size: 20px; font-weight: medium;'>Circuit Properties</p>"
      }
     },
     "19db50daa9c142eda1d9662510f84036": {
      "model_module": "@jupyter-widgets/controls",
      "model_module_version": "2.0.0",
      "model_name": "ButtonStyleModel",
      "state": {
       "font_family": null,
       "font_size": null,
       "font_style": null,
       "font_variant": null,
       "font_weight": null,
       "text_color": null,
       "text_decoration": null
      }
     },
     "1a0f0c26589d4bba880d616f5dcf06b5": {
      "model_module": "@jupyter-widgets/base",
      "model_module_version": "2.0.0",
      "model_name": "LayoutModel",
      "state": {
       "width": "95px"
      }
     },
     "1fccf749c1344131b89252360154e923": {
      "model_module": "@jupyter-widgets/base",
      "model_module_version": "2.0.0",
      "model_name": "LayoutModel",
      "state": {
       "width": "70px"
      }
     },
     "22d3b1d5f7d0405f886dd963a9f582c1": {
      "model_module": "@jupyter-widgets/controls",
      "model_module_version": "2.0.0",
      "model_name": "HTMLStyleModel",
      "state": {
       "description_width": "",
       "font_size": null,
       "text_color": null
      }
     },
     "3ab54af10b99442e8d180554976885ce": {
      "model_module": "@jupyter-widgets/controls",
      "model_module_version": "2.0.0",
      "model_name": "HTMLStyleModel",
      "state": {
       "description_width": "",
       "font_size": null,
       "text_color": null
      }
     },
     "5360bbeedc9d41d8bf217ef0194d025a": {
      "model_module": "@jupyter-widgets/base",
      "model_module_version": "2.0.0",
      "model_name": "LayoutModel",
      "state": {
       "width": "190px"
      }
     },
     "6e117991ef564c30b4ec56913ba7a399": {
      "model_module": "@jupyter-widgets/base",
      "model_module_version": "2.0.0",
      "model_name": "LayoutModel",
      "state": {}
     },
     "7be6cef097314b5c8c6fb59786e4fba7": {
      "model_module": "@jupyter-widgets/controls",
      "model_module_version": "2.0.0",
      "model_name": "HTMLModel",
      "state": {
       "layout": "IPY_MODEL_6e117991ef564c30b4ec56913ba7a399",
       "style": "IPY_MODEL_22d3b1d5f7d0405f886dd963a9f582c1",
       "value": "<h5>Message</h5>"
      }
     },
     "8663e9fa67754e33afbe5d17f72f3911": {
      "model_module": "@jupyter-widgets/base",
      "model_module_version": "2.0.0",
      "model_name": "LayoutModel",
      "state": {
       "width": "145px"
      }
     },
     "8817a22ac8c348738b0f1f4b5e425202": {
      "model_module": "@jupyter-widgets/controls",
      "model_module_version": "2.0.0",
      "model_name": "HTMLStyleModel",
      "state": {
       "description_width": "",
       "font_size": null,
       "text_color": null
      }
     },
     "a03682686f42457a835c516da199c22f": {
      "model_module": "@jupyter-widgets/controls",
      "model_module_version": "2.0.0",
      "model_name": "HTMLModel",
      "state": {
       "layout": "IPY_MODEL_5360bbeedc9d41d8bf217ef0194d025a",
       "style": "IPY_MODEL_eed17e6c9bbe4848b8df9bcdb7c231a7",
       "value": "<h5>Job ID</h5>"
      }
     },
     "af032a7317414926b8381366119124d4": {
      "model_module": "@jupyter-widgets/base",
      "model_module_version": "2.0.0",
      "model_name": "LayoutModel",
      "state": {
       "grid_template_areas": "\n                                       \". . . . right \"\n                                        ",
       "grid_template_columns": "20% 20% 20% 20% 20%",
       "width": "100%"
      }
     },
     "b8a674edf36e41ff85a4d6e806d9ef82": {
      "model_module": "@jupyter-widgets/base",
      "model_module_version": "2.0.0",
      "model_name": "LayoutModel",
      "state": {
       "margin": "0px 0px 10px 0px"
      }
     },
     "bef211d56af243d0a29d44d7d0ab8a88": {
      "model_module": "@jupyter-widgets/controls",
      "model_module_version": "2.0.0",
      "model_name": "HTMLModel",
      "state": {
       "layout": "IPY_MODEL_8663e9fa67754e33afbe5d17f72f3911",
       "style": "IPY_MODEL_3ab54af10b99442e8d180554976885ce",
       "value": "<h5>Backend</h5>"
      }
     },
     "bf2f406f2d77440385365ace92fe6bbc": {
      "model_module": "@jupyter-widgets/controls",
      "model_module_version": "2.0.0",
      "model_name": "HTMLModel",
      "state": {
       "layout": "IPY_MODEL_1a0f0c26589d4bba880d616f5dcf06b5",
       "style": "IPY_MODEL_d3d93ee35f784288b4ab6f33511f9738",
       "value": "<h5>Status</h5>"
      }
     },
     "c2df259be2cb4970927665f58c441410": {
      "model_module": "@jupyter-widgets/base",
      "model_module_version": "2.0.0",
      "model_name": "LayoutModel",
      "state": {
       "margin": "0px 0px 0px 37px",
       "width": "600px"
      }
     },
     "d1f31f3bf2a64d1ca4ba8a73b5b9aa31": {
      "model_module": "@jupyter-widgets/base",
      "model_module_version": "2.0.0",
      "model_name": "LayoutModel",
      "state": {
       "grid_area": "right",
       "padding": "0px 0px 0px 0px",
       "width": "70px"
      }
     },
     "d3d93ee35f784288b4ab6f33511f9738": {
      "model_module": "@jupyter-widgets/controls",
      "model_module_version": "2.0.0",
      "model_name": "HTMLStyleModel",
      "state": {
       "description_width": "",
       "font_size": null,
       "text_color": null
      }
     },
     "d41a76b70ded49ea967f6467a1c03121": {
      "model_module": "@jupyter-widgets/controls",
      "model_module_version": "2.0.0",
      "model_name": "ButtonModel",
      "state": {
       "button_style": "primary",
       "description": "Clear",
       "layout": "IPY_MODEL_d1f31f3bf2a64d1ca4ba8a73b5b9aa31",
       "style": "IPY_MODEL_19db50daa9c142eda1d9662510f84036",
       "tooltip": null
      }
     },
     "da4456ee4a0b41448ebc6930848f49d5": {
      "model_module": "@jupyter-widgets/controls",
      "model_module_version": "2.0.0",
      "model_name": "GridBoxModel",
      "state": {
       "children": [
        "IPY_MODEL_d41a76b70ded49ea967f6467a1c03121"
       ],
       "layout": "IPY_MODEL_af032a7317414926b8381366119124d4"
      }
     },
     "e570f565b6264c8d85b55c8fd6ae20bb": {
      "model_module": "@jupyter-widgets/controls",
      "model_module_version": "2.0.0",
      "model_name": "HTMLStyleModel",
      "state": {
       "description_width": "",
       "font_size": null,
       "text_color": null
      }
     },
     "eed17e6c9bbe4848b8df9bcdb7c231a7": {
      "model_module": "@jupyter-widgets/controls",
      "model_module_version": "2.0.0",
      "model_name": "HTMLStyleModel",
      "state": {
       "description_width": "",
       "font_size": null,
       "text_color": null
      }
     },
     "fa62d22355474f348ab0cd5f318faa03": {
      "model_module": "@jupyter-widgets/controls",
      "model_module_version": "2.0.0",
      "model_name": "HBoxModel",
      "state": {
       "children": [
        "IPY_MODEL_a03682686f42457a835c516da199c22f",
        "IPY_MODEL_bef211d56af243d0a29d44d7d0ab8a88",
        "IPY_MODEL_bf2f406f2d77440385365ace92fe6bbc",
        "IPY_MODEL_0cc7019d6f224bf087a01440649a874d",
        "IPY_MODEL_7be6cef097314b5c8c6fb59786e4fba7"
       ],
       "layout": "IPY_MODEL_c2df259be2cb4970927665f58c441410"
      }
     }
    },
    "version_major": 2,
    "version_minor": 0
   }
  }
 },
 "nbformat": 4,
 "nbformat_minor": 5
}

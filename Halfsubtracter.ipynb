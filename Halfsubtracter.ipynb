{
 "cells": [
  {
   "cell_type": "code",
   "execution_count": 1,
   "id": "654b1407-08d8-4ce3-976a-b50de390a915",
   "metadata": {
    "tags": []
   },
   "outputs": [],
   "source": [
    "# Importing standard Qiskit libraries\n",
    "from qiskit import QuantumCircuit, transpile\n",
    "from qiskit.tools.jupyter import *\n",
    "from qiskit.visualization import *\n",
    "from ibm_quantum_widgets import *\n",
    "from qiskit_aer import AerSimulator\n",
    "\n",
    "# qiskit-ibmq-provider has been deprecated.\n",
    "# Please see the Migration Guides in https://ibm.biz/provider_migration_guide for more detail.\n",
    "from qiskit_ibm_runtime import QiskitRuntimeService, Sampler, Estimator, Session, Options\n",
    "\n",
    "# Loading your IBM Quantum account(s)\n",
    "service = QiskitRuntimeService(channel=\"ibm_quantum\")\n",
    "\n",
    "# Invoke a primitive inside a session. For more details see https://qiskit.org/documentation/partners/qiskit_ibm_runtime/tutorials.html\n",
    "# with Session(backend=service.backend(\"ibmq_qasm_simulator\")):\n",
    "#     result = Sampler().run(circuits).result()"
   ]
  },
  {
   "cell_type": "code",
   "execution_count": 2,
   "id": "456229aa-b33b-4719-a8dc-da7d32ad345b",
   "metadata": {
    "tags": []
   },
   "outputs": [],
   "source": [
    "import uuid\n",
    "from qiskit import QuantumCircuit\n",
    "\n",
    "class Circuit:\n",
    "    def __init__(self, num_qubits):\n",
    "        self.id = str(uuid.uuid4())\n",
    "        self.circuit = QuantumCircuit(num_qubits)\n",
    "    \n",
    "    def add_gate(self, gate, *qubits):\n",
    "        self.circuit.append(gate, qubits)\n",
    "    \n",
    "    def get_id(self):\n",
    "        return self.id\n",
    "    \n",
    "    def get_circuit(self):\n",
    "        return self.circuit"
   ]
  },
  {
   "cell_type": "code",
   "execution_count": 3,
   "id": "7587139f-a1a0-4a0b-a7ed-fe76196d13e5",
   "metadata": {
    "tags": []
   },
   "outputs": [
    {
     "name": "stdout",
     "output_type": "stream",
     "text": [
      "{'00': 1000}\n"
     ]
    }
   ],
   "source": [
    "from qiskit import QuantumCircuit, Aer, execute\n",
    "\n",
    "# Create a quantum circuit with two input qubits (A and B) and two output qubits (D and Borrow)\n",
    "qc = QuantumCircuit(4, 2)\n",
    "\n",
    "# Apply a NOT gate on the B input qubit\n",
    "qc.x(1)\n",
    "\n",
    "# Apply a controlled-NOT gate with A as the control and B as the target\n",
    "qc.cx(0, 2)\n",
    "\n",
    "# Apply a controlled-Z gate with A as the control and B as the target\n",
    "qc.cz(0, 3)\n",
    "\n",
    "# Measure the difference and borrow qubits\n",
    "qc.measure(2, 0)\n",
    "qc.measure(3, 1)\n",
    "\n",
    "# Simulate the circuit using the qasm_simulator\n",
    "simulator = Aer.get_backend('qasm_simulator')\n",
    "job = execute(qc, simulator, shots=1000)\n",
    "result = job.result()\n",
    "\n",
    "# Get the counts of the measurement outcomes\n",
    "counts = result.get_counts(qc)\n",
    "print(counts)\n"
   ]
  },
  {
   "cell_type": "code",
   "execution_count": null,
   "id": "97e0e818-2135-4a81-aa35-f7a9415e6d1e",
   "metadata": {},
   "outputs": [],
   "source": []
  }
 ],
 "metadata": {
  "kernelspec": {
   "display_name": "Python 3 (ipykernel)",
   "language": "python",
   "name": "python3"
  },
  "language_info": {
   "codemirror_mode": {
    "name": "ipython",
    "version": 3
   },
   "file_extension": ".py",
   "mimetype": "text/x-python",
   "name": "python",
   "nbconvert_exporter": "python",
   "pygments_lexer": "ipython3",
   "version": "3.10.8"
  },
  "widgets": {
   "application/vnd.jupyter.widget-state+json": {
    "state": {
     "08ba65712b564a8eacecf10ff5bde627": {
      "model_module": "@jupyter-widgets/controls",
      "model_module_version": "2.0.0",
      "model_name": "HBoxModel",
      "state": {
       "children": [
        "IPY_MODEL_86011bac9e954939b444f672ec41afea",
        "IPY_MODEL_2da29b0c307e41879f44f82d6fbfeea7",
        "IPY_MODEL_4567e7ded72e4661ac08f22254ca2f90",
        "IPY_MODEL_1f8b6db536274681aae6854cc323f13d",
        "IPY_MODEL_515da1a49bc541a6869554724832c17b"
       ],
       "layout": "IPY_MODEL_ad5ec196bed3428f9e1e6ff37d6891cc"
      }
     },
     "0afdeb2727fb4d769bfc70b464e59213": {
      "model_module": "@jupyter-widgets/base",
      "model_module_version": "2.0.0",
      "model_name": "LayoutModel",
      "state": {
       "width": "145px"
      }
     },
     "18d7f7fc2401464fb028be33f0786a87": {
      "model_module": "@jupyter-widgets/base",
      "model_module_version": "2.0.0",
      "model_name": "LayoutModel",
      "state": {
       "grid_area": "right",
       "padding": "0px 0px 0px 0px",
       "width": "70px"
      }
     },
     "1f8b6db536274681aae6854cc323f13d": {
      "model_module": "@jupyter-widgets/controls",
      "model_module_version": "2.0.0",
      "model_name": "HTMLModel",
      "state": {
       "layout": "IPY_MODEL_dedc964a49024d3a9c06aacaeaec768e",
       "style": "IPY_MODEL_5b5affa179ec4eed862370941c605baa",
       "value": "<h5>Queue</h5>"
      }
     },
     "28374053aac74f479b04ea982f5edcef": {
      "model_module": "@jupyter-widgets/controls",
      "model_module_version": "2.0.0",
      "model_name": "HTMLStyleModel",
      "state": {
       "description_width": "",
       "font_size": null,
       "text_color": null
      }
     },
     "2da29b0c307e41879f44f82d6fbfeea7": {
      "model_module": "@jupyter-widgets/controls",
      "model_module_version": "2.0.0",
      "model_name": "HTMLModel",
      "state": {
       "layout": "IPY_MODEL_0afdeb2727fb4d769bfc70b464e59213",
       "style": "IPY_MODEL_ce4bd3ad45b64d659398959792e55d7d",
       "value": "<h5>Backend</h5>"
      }
     },
     "3e1e00691c824c489332f5631406464c": {
      "model_module": "@jupyter-widgets/base",
      "model_module_version": "2.0.0",
      "model_name": "LayoutModel",
      "state": {}
     },
     "4567e7ded72e4661ac08f22254ca2f90": {
      "model_module": "@jupyter-widgets/controls",
      "model_module_version": "2.0.0",
      "model_name": "HTMLModel",
      "state": {
       "layout": "IPY_MODEL_a8f23f992e0d47e3bbdb2cfc6f218fef",
       "style": "IPY_MODEL_544b6a47c94e4f228f77658c1153c283",
       "value": "<h5>Status</h5>"
      }
     },
     "45f249c87cf643ec9936b8833551215c": {
      "model_module": "@jupyter-widgets/controls",
      "model_module_version": "2.0.0",
      "model_name": "HTMLStyleModel",
      "state": {
       "description_width": "",
       "font_size": null,
       "text_color": null
      }
     },
     "515da1a49bc541a6869554724832c17b": {
      "model_module": "@jupyter-widgets/controls",
      "model_module_version": "2.0.0",
      "model_name": "HTMLModel",
      "state": {
       "layout": "IPY_MODEL_3e1e00691c824c489332f5631406464c",
       "style": "IPY_MODEL_28374053aac74f479b04ea982f5edcef",
       "value": "<h5>Message</h5>"
      }
     },
     "544b6a47c94e4f228f77658c1153c283": {
      "model_module": "@jupyter-widgets/controls",
      "model_module_version": "2.0.0",
      "model_name": "HTMLStyleModel",
      "state": {
       "description_width": "",
       "font_size": null,
       "text_color": null
      }
     },
     "5b5affa179ec4eed862370941c605baa": {
      "model_module": "@jupyter-widgets/controls",
      "model_module_version": "2.0.0",
      "model_name": "HTMLStyleModel",
      "state": {
       "description_width": "",
       "font_size": null,
       "text_color": null
      }
     },
     "5f048f1b843a43acaf847d9f50e61bfa": {
      "model_module": "@jupyter-widgets/controls",
      "model_module_version": "2.0.0",
      "model_name": "ButtonStyleModel",
      "state": {
       "font_family": null,
       "font_size": null,
       "font_style": null,
       "font_variant": null,
       "font_weight": null,
       "text_color": null,
       "text_decoration": null
      }
     },
     "6a328a8714804d1bb9d98b6e19167acb": {
      "model_module": "@jupyter-widgets/controls",
      "model_module_version": "2.0.0",
      "model_name": "HTMLModel",
      "state": {
       "layout": "IPY_MODEL_7af3e7ee78e34feeb65e95ac1840bb9f",
       "style": "IPY_MODEL_45f249c87cf643ec9936b8833551215c",
       "value": "<p style='font-family: IBM Plex Sans, Arial, Helvetica, sans-serif; font-size: 20px; font-weight: medium;'>Circuit Properties</p>"
      }
     },
     "7af3e7ee78e34feeb65e95ac1840bb9f": {
      "model_module": "@jupyter-widgets/base",
      "model_module_version": "2.0.0",
      "model_name": "LayoutModel",
      "state": {
       "margin": "0px 0px 10px 0px"
      }
     },
     "86011bac9e954939b444f672ec41afea": {
      "model_module": "@jupyter-widgets/controls",
      "model_module_version": "2.0.0",
      "model_name": "HTMLModel",
      "state": {
       "layout": "IPY_MODEL_c5bb5ba9bad24861ae722846b57f009b",
       "style": "IPY_MODEL_9c8f52c8c1c145c7abe5c7e7f3a2b47e",
       "value": "<h5>Job ID</h5>"
      }
     },
     "9c8f52c8c1c145c7abe5c7e7f3a2b47e": {
      "model_module": "@jupyter-widgets/controls",
      "model_module_version": "2.0.0",
      "model_name": "HTMLStyleModel",
      "state": {
       "description_width": "",
       "font_size": null,
       "text_color": null
      }
     },
     "a8f23f992e0d47e3bbdb2cfc6f218fef": {
      "model_module": "@jupyter-widgets/base",
      "model_module_version": "2.0.0",
      "model_name": "LayoutModel",
      "state": {
       "width": "95px"
      }
     },
     "ad5ec196bed3428f9e1e6ff37d6891cc": {
      "model_module": "@jupyter-widgets/base",
      "model_module_version": "2.0.0",
      "model_name": "LayoutModel",
      "state": {
       "margin": "0px 0px 0px 37px",
       "width": "600px"
      }
     },
     "bfdd17fe9ccc4a02ba0045de6d0efb66": {
      "model_module": "@jupyter-widgets/controls",
      "model_module_version": "2.0.0",
      "model_name": "GridBoxModel",
      "state": {
       "children": [
        "IPY_MODEL_f4f3bf15084c473882d1b7574529a6e2"
       ],
       "layout": "IPY_MODEL_f743a4742600407082d72f0759a068c9"
      }
     },
     "c5bb5ba9bad24861ae722846b57f009b": {
      "model_module": "@jupyter-widgets/base",
      "model_module_version": "2.0.0",
      "model_name": "LayoutModel",
      "state": {
       "width": "190px"
      }
     },
     "ce4bd3ad45b64d659398959792e55d7d": {
      "model_module": "@jupyter-widgets/controls",
      "model_module_version": "2.0.0",
      "model_name": "HTMLStyleModel",
      "state": {
       "description_width": "",
       "font_size": null,
       "text_color": null
      }
     },
     "dedc964a49024d3a9c06aacaeaec768e": {
      "model_module": "@jupyter-widgets/base",
      "model_module_version": "2.0.0",
      "model_name": "LayoutModel",
      "state": {
       "width": "70px"
      }
     },
     "f4f3bf15084c473882d1b7574529a6e2": {
      "model_module": "@jupyter-widgets/controls",
      "model_module_version": "2.0.0",
      "model_name": "ButtonModel",
      "state": {
       "button_style": "primary",
       "description": "Clear",
       "layout": "IPY_MODEL_18d7f7fc2401464fb028be33f0786a87",
       "style": "IPY_MODEL_5f048f1b843a43acaf847d9f50e61bfa",
       "tooltip": null
      }
     },
     "f743a4742600407082d72f0759a068c9": {
      "model_module": "@jupyter-widgets/base",
      "model_module_version": "2.0.0",
      "model_name": "LayoutModel",
      "state": {
       "grid_template_areas": "\n                                       \". . . . right \"\n                                        ",
       "grid_template_columns": "20% 20% 20% 20% 20%",
       "width": "100%"
      }
     }
    },
    "version_major": 2,
    "version_minor": 0
   }
  }
 },
 "nbformat": 4,
 "nbformat_minor": 5
}

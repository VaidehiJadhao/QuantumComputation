{
 "cells": [
  {
   "cell_type": "code",
   "execution_count": 1,
   "id": "2a74ed26-029f-46eb-aa9a-c1f61ba7806f",
   "metadata": {
    "tags": []
   },
   "outputs": [
    {
     "name": "stdout",
     "output_type": "stream",
     "text": [
      "Grover's algorithm result: {'10': 1}\n"
     ]
    }
   ],
   "source": [
    "import numpy as np\n",
    "from qiskit import QuantumCircuit, Aer, execute\n",
    "\n",
    "# Define the oracle function\n",
    "def oracle(circuit, register):\n",
    "    circuit.x(register[0])  # Apply a quantum NOT gate to the first qubit\n",
    "    circuit.cz(register[0], register[1])  # Apply a controlled-Z gate to both qubits\n",
    "    circuit.x(register[0])  # Apply another quantum NOT gate to the first qubit\n",
    "\n",
    "# Define the diffusion operator\n",
    "def diffusion(circuit, register):\n",
    "    circuit.h(register)\n",
    "    circuit.x(register)\n",
    "    circuit.h(register[1])\n",
    "    circuit.cx(register[0], register[1])\n",
    "    circuit.h(register[1])\n",
    "    circuit.x(register)\n",
    "    circuit.h(register)\n",
    "\n",
    "# Define the Grover's algorithm function\n",
    "def grover_algorithm(num_iterations):\n",
    "    # Set up the quantum circuit\n",
    "    num_qubits = 2\n",
    "    circuit = QuantumCircuit(num_qubits, num_qubits)\n",
    "\n",
    "    # Apply Hadamard gates to all qubits\n",
    "    circuit.h(range(num_qubits))\n",
    "\n",
    "    # Apply Grover's iterations\n",
    "    for _ in range(num_iterations):\n",
    "        oracle(circuit, range(num_qubits))\n",
    "        diffusion(circuit, range(num_qubits))\n",
    "\n",
    "    # Measure the qubits\n",
    "    circuit.measure(range(num_qubits), range(num_qubits))\n",
    "\n",
    "    # Run the circuit on a simulator\n",
    "    simulator = Aer.get_backend('qasm_simulator')\n",
    "    job = execute(circuit, simulator, shots=1)\n",
    "\n",
    "    # Get the result\n",
    "    result = job.result()\n",
    "    counts = result.get_counts(circuit)\n",
    "    \n",
    "    return counts\n",
    "\n",
    "# Run Grover's algorithm with 1 iteration\n",
    "results = grover_algorithm(1)\n",
    "print(\"Grover's algorithm result:\", results)\n"
   ]
  },
  {
   "cell_type": "code",
   "execution_count": null,
   "id": "76e84ccd-6348-4927-a814-7f2d4ca59d36",
   "metadata": {},
   "outputs": [],
   "source": []
  }
 ],
 "metadata": {
  "kernelspec": {
   "display_name": "Python 3 (ipykernel)",
   "language": "python",
   "name": "python3"
  },
  "language_info": {
   "codemirror_mode": {
    "name": "ipython",
    "version": 3
   },
   "file_extension": ".py",
   "mimetype": "text/x-python",
   "name": "python",
   "nbconvert_exporter": "python",
   "pygments_lexer": "ipython3",
   "version": "3.10.8"
  },
  "widgets": {
   "application/vnd.jupyter.widget-state+json": {
    "state": {},
    "version_major": 2,
    "version_minor": 0
   }
  }
 },
 "nbformat": 4,
 "nbformat_minor": 5
}
